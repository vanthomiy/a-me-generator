{
 "cells": [
  {
   "cell_type": "code",
   "execution_count": null,
   "id": "5da9adb5",
   "metadata": {},
   "outputs": [],
   "source": [
    "# Cell 1: Install core libraries\n",
    "%pip install --upgrade diffusers accelerate transformers safetensors huggingface_hub xformers torch torchvision"
   ]
  },
  {
   "cell_type": "code",
   "execution_count": null,
   "id": "c0ae8e28",
   "metadata": {},
   "outputs": [],
   "source": [
    "# Cell 2: Mount Drive for persistent storage\n",
    "from google.colab import drive\n",
    "drive.mount('/content/drive')"
   ]
  },
  {
   "cell_type": "code",
   "execution_count": null,
   "id": "d5247c0f",
   "metadata": {},
   "outputs": [],
   "source": [
    "# Clone the repository to your Google Drive\n",
    "!git clone https://github.com/vanthomiy/a-me-generator.git\n",
    "REPO_ROOT = \"/content/a-me-generator\"  # Replace with the actual name of your repo folder\n",
    "!cp -r \"$REPO_ROOT /\n",
    "\n",
    "# it contains \n",
    "# |--content\n",
    "#   |--class_images\n",
    "#   |--generated_images\n",
    "#   |--instance_images\n",
    "# |--train_dreambooth_lora_sdxl.py"
   ]
  },
  {
   "cell_type": "code",
   "execution_count": null,
   "id": "d67bc9ea",
   "metadata": {},
   "outputs": [],
   "source": [
    "# Cell 3: Login to Hugging Face Hub (to pull SDXL and push checkpoints)\n",
    "from huggingface_hub import notebook_login\n",
    "notebook_login()"
   ]
  },
  {
   "cell_type": "code",
   "execution_count": null,
   "id": "502dc54b",
   "metadata": {},
   "outputs": [],
   "source": [
    "# Cell 4: Define paths\n",
    "INSTANCE_DIR = \"/content/\n",
    "CLASS_DIR    = \"/content/drive/MyDrive/a-me-generator/class_images\"     # optional generic faces\n",
    "OUTPUT_DIR   = \"/content/drive/MyDrive/a-me-generator/output_model\"\n",
    "\n",
    "# (Optional) Download or sync your images into INSTANCE_DIR before running.\n"
   ]
  },
  {
   "cell_type": "code",
   "execution_count": null,
   "id": "948d737e",
   "metadata": {},
   "outputs": [],
   "source": [
    "# Cell 5: Launch training\n",
    "!accelerate launch train_dreambooth_lora_sdxl.py \\\n",
    "  --pretrained_model_name_or_path=\"stabilityai/stable-diffusion-xl-base-1.0\" \\\n",
    "  --instance_data_dir=$INSTANCE_DIR \\\n",
    "  --class_data_dir=$CLASS_DIR \\\n",
    "  --instance_prompt=\"a photograph of my_face\" \\\n",
    "  --class_prompt=\"a photograph of a person\" \\\n",
    "  --resolution=512 \\\n",
    "  --train_batch_size=1 \\\n",
    "  --gradient_accumulation_steps=4 \\\n",
    "  --learning_rate=1e-4 \\\n",
    "  --max_train_steps=800 \\\n",
    "  --mixed_precision=\"fp16\" \\\n",
    "  --enable_xformers_memory_efficient_attention \\\n",
    "  --output_dir=$OUTPUT_DIR\n"
   ]
  },
  {
   "cell_type": "code",
   "execution_count": null,
   "id": "692968ae",
   "metadata": {},
   "outputs": [],
   "source": [
    "# Cell 6: Load your fine‑tuned model\n",
    "from diffusers import StableDiffusionXLImg2ImgPipeline, StableDiffusionXLPipeline\n",
    "import torch\n",
    "\n",
    "pipe = StableDiffusionXLPipeline.from_pretrained(\n",
    "    OUTPUT_DIR,\n",
    "    torch_dtype=torch.float16,\n",
    "    use_safetensors=True,\n",
    ").to(\"cuda\")\n",
    "\n"
   ]
  },
  {
   "cell_type": "code",
   "execution_count": null,
   "id": "dd047b37",
   "metadata": {},
   "outputs": [],
   "source": [
    "# Cell 7: Text-to-image generation\n",
    "prompt = \"A high‑resolution portrait of my_face standing in a sunlit garden, ultra realistic\"\n",
    "image = pipe(prompt, num_inference_steps=50, guidance_scale=7.5).images[0]\n",
    "image.save(\"/content/drive/MyDrive/dreambooth/generated_portrait.png\")\n",
    "image.show()"
   ]
  },
  {
   "cell_type": "code",
   "execution_count": null,
   "id": "02a5bda3",
   "metadata": {},
   "outputs": [],
   "source": [
    "# Cell 8: Image-to-image generation\n",
    "prompt = \"A high‑resolution portrait of my_face standing in a sunlit garden, ultra realistic\"\n",
    "image = pipe(prompt, image=image, strength=0.75, num_inference_steps=50, guidance_scale=7.5).images[0]\n",
    "image.save(\"/content/drive/MyDrive/dreambooth/generated_portrait_ii.png\")\n",
    "image.show()"
   ]
  }
 ],
 "metadata": {
  "language_info": {
   "name": "python"
  }
 },
 "nbformat": 4,
 "nbformat_minor": 5
}
